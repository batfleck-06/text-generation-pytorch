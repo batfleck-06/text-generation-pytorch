{
 "cells": [
  {
   "cell_type": "markdown",
   "id": "f0e5cee5",
   "metadata": {},
   "source": [
    "## Character-Level Text Generation with PyTorch\n",
    "\n",
    "\n",
    "Building a character-level text generation model using a recurrent neural network (RNN) implemented with PyTorch. The model will be trained on a text corpus and used to generate new text character by character."
   ]
  },
  {
   "cell_type": "code",
   "execution_count": null,
   "id": "aeceffc9",
   "metadata": {},
   "outputs": [],
   "source": [
    "import torch\n",
    "import torch.nn as nn\n",
    "import random"
   ]
  },
  {
   "cell_type": "code",
   "execution_count": null,
   "id": "50551ae4",
   "metadata": {},
   "outputs": [],
   "source": [
    "# Data Preparation\n",
    "# Load and preprocess the Shakespeare text\n",
    "with open('Shakespeare complete.txt', 'r', encoding='utf-8') as file:\n",
    "    text = file.read()\n",
    "\n",
    "all_characters = sorted(set(text))\n",
    "n_characters = len(all_characters)\n",
    "\n",
    "# Create character to index and index to character dictionaries\n",
    "char_to_index = {char: i for i, char in enumerate(all_characters)}\n",
    "index_to_char = {i: char for i, char in enumerate(all_characters)}"
   ]
  },
  {
   "cell_type": "markdown",
   "id": "e1c08633",
   "metadata": {},
   "source": [
    "#### Defining a character-level RNN model using PyTorch."
   ]
  },
  {
   "cell_type": "code",
   "execution_count": null,
   "id": "3f3da103",
   "metadata": {},
   "outputs": [],
   "source": [
    "class CharRNN(nn.Module):\n",
    "    def __init__(self, input_size, hidden_size, output_size, n_layers):\n",
    "        super(CharRNN, self).__init__()\n",
    "        self.hidden_size = hidden_size\n",
    "        self.n_layers = n_layers\n",
    "        \n",
    "        self.embedding = nn.Embedding(input_size, hidden_size)\n",
    "        self.rnn = nn.LSTM(hidden_size, hidden_size, n_layers, batch_first=True)\n",
    "        self.fc = nn.Linear(hidden_size, output_size)\n",
    "    \n",
    "    def forward(self, x, hidden):\n",
    "        embedded = self.embedding(x)\n",
    "        output, hidden = self.rnn(embedded, hidden)\n",
    "        output = self.fc(output)\n",
    "        return output, hidden\n"
   ]
  },
  {
   "cell_type": "markdown",
   "id": "00702b74",
   "metadata": {},
   "source": [
    "####  Training the model"
   ]
  },
  {
   "cell_type": "code",
   "execution_count": null,
   "id": "aa10ff7a",
   "metadata": {},
   "outputs": [],
   "source": [
    "# Hyperparameters\n",
    "input_size = n_characters\n",
    "hidden_size = 256\n",
    "output_size = n_characters\n",
    "n_layers = 3\n",
    "learning_rate = 0.005\n",
    "seq_length = 100\n",
    "temperature = 0.5\n",
    "\n",
    "model = CharRNN(input_size, hidden_size, output_size, n_layers)\n",
    "criterion = nn.CrossEntropyLoss()\n",
    "optimizer = torch.optim.Adam(model.parameters(), lr=learning_rate)\n",
    "\n",
    "# Training loop\n",
    "n_epochs = 2000\n",
    "print_every = 100\n",
    "\n",
    "for epoch in range(n_epochs):\n",
    "    start_idx = random.randint(0, len(text) - seq_length)\n",
    "    end_idx = start_idx + seq_length + 1\n",
    "    data = text[start_idx:end_idx]\n",
    "    input_seq = torch.tensor([char_to_index[char] for char in data[:-1]])\n",
    "    target_seq = torch.tensor([char_to_index[char] for char in data[1:]])\n",
    "    \n",
    "    optimizer.zero_grad()\n",
    "    output, _ = model(input_seq.unsqueeze(0), None)\n",
    "    loss = criterion(output.view(-1, output_size), target_seq)\n",
    "    loss.backward()\n",
    "    optimizer.step()\n",
    "    \n",
    "    if epoch % print_every == 0:\n",
    "        print(f'Epoch [{epoch}/{n_epochs}], Loss: {loss:.4f}')"
   ]
  },
  {
   "cell_type": "markdown",
   "id": "9f2ea5a5",
   "metadata": {},
   "source": [
    "#### Text Generation step"
   ]
  },
  {
   "cell_type": "code",
   "execution_count": null,
   "id": "241f696a",
   "metadata": {},
   "outputs": [],
   "source": [
    "def generate_text(start_char, length=200, temperature=0.7):\n",
    "    hidden = None\n",
    "    input_char = torch.tensor([[char_to_index[start_char]]])\n",
    "    generated_text = start_char\n",
    "    \n",
    "    for _ in range(length):\n",
    "        output, hidden = model(input_char, hidden)\n",
    "        output_dist = output.data.view(-1).div(temperature).exp()\n",
    "        top_char_idx = torch.multinomial(output_dist, 1)[0]\n",
    "        predicted_char = index_to_char[top_char_idx.item()]\n",
    "        \n",
    "        generated_text += predicted_char\n",
    "        input_char = torch.tensor([[top_char_idx]])\n",
    "    \n",
    "    return generated_text\n",
    "\n",
    "start_char = 'T'\n",
    "generated_text = generate_text(start_char, length=1000, temperature=0.7)\n",
    "print(generated_text)\n"
   ]
  },
  {
   "cell_type": "code",
   "execution_count": null,
   "id": "1d9bd9f5",
   "metadata": {},
   "outputs": [],
   "source": []
  }
 ],
 "metadata": {
  "kernelspec": {
   "display_name": "Python 3 (ipykernel)",
   "language": "python",
   "name": "python3"
  },
  "language_info": {
   "codemirror_mode": {
    "name": "ipython",
    "version": 3
   },
   "file_extension": ".py",
   "mimetype": "text/x-python",
   "name": "python",
   "nbconvert_exporter": "python",
   "pygments_lexer": "ipython3",
   "version": "3.9.12"
  }
 },
 "nbformat": 4,
 "nbformat_minor": 5
}
